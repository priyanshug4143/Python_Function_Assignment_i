{
 "cells": [
  {
   "cell_type": "markdown",
   "id": "9dfd8027",
   "metadata": {},
   "source": [
    "1. In Python, what is the difference between a built-in function and a user-defined function? Provide an example of each."
   ]
  },
  {
   "cell_type": "code",
   "execution_count": 2,
   "id": "ac11e3bc",
   "metadata": {},
   "outputs": [],
   "source": [
    "# Answer : 1 ) built in function is  commonly is used  , while user defined is not\n",
    "#          2 ) built in function can not use as a variable"
   ]
  },
  {
   "cell_type": "code",
   "execution_count": 9,
   "id": "bf65fa5d",
   "metadata": {},
   "outputs": [
    {
     "name": "stdout",
     "output_type": "stream",
     "text": [
      "Here Print is Built-in-function\n",
      "Here Factorial is user define function\n",
      "-------------------------------------------------------------------------------------------------\n"
     ]
    }
   ],
   "source": [
    "# Example\n",
    "# Bulit In function\n",
    "print(\"Here Print is Built-in-function\")\n",
    "#User Defined a Function\n",
    "def factorial(x):\n",
    "    a=1\n",
    "    for i in range(1,x+1):\n",
    "        a=a*i       \n",
    "    return a \n",
    "print(\"Here Factorial is user define function\")\n",
    "print(\"-------------------------------------------------------------------------------------------------\")"
   ]
  },
  {
   "cell_type": "markdown",
   "id": "69102baf",
   "metadata": {},
   "source": [
    "2. How can you pass arguments to a function in Python? Explain the difference between positional arguments and keyword arguments."
   ]
  },
  {
   "cell_type": "code",
   "execution_count": 2,
   "id": "d16380ea",
   "metadata": {},
   "outputs": [
    {
     "name": "stdout",
     "output_type": "stream",
     "text": [
      "1) You have to maintain Position Of Argument\n",
      "2) Number of parameter Must Be equal Number of Argument\n"
     ]
    }
   ],
   "source": [
    "#Answer\n",
    "print(\"1) You have to maintain Position Of Argument\")\n",
    "print(\"2) Number of parameter Must Be equal Number of Argument\")"
   ]
  },
  {
   "cell_type": "code",
   "execution_count": null,
   "id": "35432290",
   "metadata": {},
   "outputs": [],
   "source": []
  },
  {
   "cell_type": "markdown",
   "id": "cb5917f6",
   "metadata": {},
   "source": [
    "3. What is the purpose of the return statement in a function? Can a function have multiple return\n",
    "statements? Explain with an example."
   ]
  },
  {
   "cell_type": "code",
   "execution_count": 14,
   "id": "affb127d",
   "metadata": {},
   "outputs": [
    {
     "name": "stdout",
     "output_type": "stream",
     "text": [
      "Answer\n",
      "Actually Every Function Return output after a input  , like this return keyword give a output , whatever a function perform a activity\n",
      "----------------------------------------------------------------------------------------------------\n",
      "Function Doesnot have a Multiple Return function\n"
     ]
    }
   ],
   "source": [
    "print(\"Answer\")\n",
    "print(\"Actually Every Function Return output after a input  , like this return keyword give a output , whatever a function perform a activity\")\n",
    "print(\"-\"*100)\n",
    "print(\"Function Doesnot have a Multiple Return function\")\n"
   ]
  },
  {
   "cell_type": "code",
   "execution_count": 15,
   "id": "5d128844",
   "metadata": {},
   "outputs": [],
   "source": [
    "#Example"
   ]
  },
  {
   "cell_type": "code",
   "execution_count": 16,
   "id": "7077ae77",
   "metadata": {},
   "outputs": [],
   "source": [
    "def sum(a,b):\n",
    "    return a*b\n",
    "    return a+b\n"
   ]
  },
  {
   "cell_type": "code",
   "execution_count": 17,
   "id": "276c4ff2",
   "metadata": {},
   "outputs": [
    {
     "data": {
      "text/plain": [
       "24"
      ]
     },
     "execution_count": 17,
     "metadata": {},
     "output_type": "execute_result"
    }
   ],
   "source": [
    "sum(4,6)"
   ]
  },
  {
   "cell_type": "markdown",
   "id": "674dc20d",
   "metadata": {},
   "source": [
    "4. What are lambda functions in Python? How are they different from regular functions? Provide an\n",
    "example where a lambda function can be useful."
   ]
  },
  {
   "cell_type": "code",
   "execution_count": 19,
   "id": "7d78523e",
   "metadata": {},
   "outputs": [
    {
     "name": "stdout",
     "output_type": "stream",
     "text": [
      "Answer\n",
      "Python lambda functions are anonymous functions,Lambda functions can take any number of positional arguments, keyword arguments, or both, followed by a colon and only one expression. There can’t be more than one expression, as it’s syntactically restricted.\n"
     ]
    }
   ],
   "source": [
    "print(\"Answer\")\n",
    "print(\"Python lambda functions are anonymous functions,Lambda functions can take any number of positional arguments, keyword arguments, or both, followed by a colon and only one expression. There can’t be more than one expression, as it’s syntactically restricted.\")"
   ]
  },
  {
   "cell_type": "code",
   "execution_count": 20,
   "id": "9d34ca9f",
   "metadata": {},
   "outputs": [
    {
     "name": "stdout",
     "output_type": "stream",
     "text": [
      "Normal function took more han 2 to 3 line to complete while lambda take only line \n"
     ]
    }
   ],
   "source": [
    "print(\"Normal function took more han 2 to 3 line to complete while lambda take only line \")"
   ]
  },
  {
   "cell_type": "code",
   "execution_count": 49,
   "id": "acaa96cb",
   "metadata": {},
   "outputs": [
    {
     "name": "stdout",
     "output_type": "stream",
     "text": [
      "Enter a Number 52\n",
      "Number a Greather Than 50\n"
     ]
    }
   ],
   "source": [
    "a=int(input(\"Enter a Number \"))\n",
    "if a>50:\n",
    "    print(\"Number a Greather Than 50\")\n",
    "else:\n",
    "    print(\"Number a Smaller Than 50\")\n"
   ]
  },
  {
   "cell_type": "code",
   "execution_count": null,
   "id": "cb0187eb",
   "metadata": {},
   "outputs": [],
   "source": []
  },
  {
   "cell_type": "code",
   "execution_count": 42,
   "id": "ecbd488e",
   "metadata": {},
   "outputs": [],
   "source": [
    "sd=lambda i:\"Number is smaller than 50\" if i <50  else \"Number is greather than 50\""
   ]
  },
  {
   "cell_type": "code",
   "execution_count": 43,
   "id": "36caa66d",
   "metadata": {},
   "outputs": [
    {
     "data": {
      "text/plain": [
       "'Number is greather than 50'"
      ]
     },
     "execution_count": 43,
     "metadata": {},
     "output_type": "execute_result"
    }
   ],
   "source": [
    "sd(450)"
   ]
  },
  {
   "cell_type": "code",
   "execution_count": null,
   "id": "2879bbf9",
   "metadata": {},
   "outputs": [],
   "source": []
  },
  {
   "cell_type": "markdown",
   "id": "3b708b03",
   "metadata": {},
   "source": [
    "5. How does the concept of \"scope\" apply to functions in Python? Explain the difference between local\n",
    "scope and global scope."
   ]
  },
  {
   "cell_type": "code",
   "execution_count": 4,
   "id": "8fef5565",
   "metadata": {},
   "outputs": [
    {
     "name": "stdout",
     "output_type": "stream",
     "text": [
      "Local Scope: Variables that are defined inside a function have local scope. They can only be accessed within that specific function.\n",
      "----------------------------------------------------------------------------------------------------\n",
      "Global Scope: Variables defined outside of any function or at the module level have global scope. They can be accessed from anywhere within the module.\n"
     ]
    }
   ],
   "source": [
    "print(\"Local Scope: Variables that are defined inside a function have local scope. They can only be accessed within that specific function.\")\n",
    "print(\"-\"*100)\n",
    "print(\"Global Scope: Variables defined outside of any function or at the module level have global scope. They can be accessed from anywhere within the module.\")"
   ]
  },
  {
   "cell_type": "code",
   "execution_count": 10,
   "id": "974e18ca",
   "metadata": {},
   "outputs": [
    {
     "name": "stdout",
     "output_type": "stream",
     "text": [
      "Here age is local variable\n"
     ]
    }
   ],
   "source": [
    "def priyanshu():\n",
    "    age=19\n",
    "    return age\n",
    "print(\"Here age is local variable\")"
   ]
  },
  {
   "cell_type": "code",
   "execution_count": null,
   "id": "27e34e2f",
   "metadata": {},
   "outputs": [],
   "source": []
  },
  {
   "cell_type": "code",
   "execution_count": 12,
   "id": "e261c02b",
   "metadata": {},
   "outputs": [
    {
     "name": "stdout",
     "output_type": "stream",
     "text": [
      "Here age_before_10_yrs is global variable\n"
     ]
    }
   ],
   "source": [
    "age_before_10_yrs=12\n",
    "def priyanshu():\n",
    "    current_age=10+age_before_10_yrs\n",
    "    return  current_age\n",
    "print(\"Here age_before_10_yrs is global variable\")"
   ]
  },
  {
   "cell_type": "code",
   "execution_count": 13,
   "id": "2fcc4ec7",
   "metadata": {},
   "outputs": [
    {
     "data": {
      "text/plain": [
       "22"
      ]
     },
     "execution_count": 13,
     "metadata": {},
     "output_type": "execute_result"
    }
   ],
   "source": [
    "priyanshu()"
   ]
  },
  {
   "cell_type": "markdown",
   "id": "097c7314",
   "metadata": {},
   "source": [
    "6. How can you use the \"return\" statement in a Python function to return multiple values?"
   ]
  },
  {
   "cell_type": "code",
   "execution_count": 15,
   "id": "ec573d8a",
   "metadata": {},
   "outputs": [],
   "source": [
    "def priya():\n",
    "    address=\"S-222 , Sec-4 , Airoli , Navi Mumbai , 400708\"\n",
    "    full_name=\"Priyanshu Dhunilal Gupta\"\n",
    "    age=19\n",
    "    return address , full_name , age"
   ]
  },
  {
   "cell_type": "code",
   "execution_count": 16,
   "id": "00b9cafe",
   "metadata": {},
   "outputs": [
    {
     "data": {
      "text/plain": [
       "('S-222 , Sec-4 , Airoli , Navi Mumbai , 400708',\n",
       " 'Priyanshu Dhunilal Gupta',\n",
       " 19)"
      ]
     },
     "execution_count": 16,
     "metadata": {},
     "output_type": "execute_result"
    }
   ],
   "source": [
    "priya()"
   ]
  },
  {
   "cell_type": "markdown",
   "id": "17485521",
   "metadata": {},
   "source": [
    "7. What is the difference between the \"pass by value\" and \"pass by reference\" concepts when it comes to function arguments in Python?"
   ]
  },
  {
   "cell_type": "code",
   "execution_count": 17,
   "id": "404dabc2",
   "metadata": {},
   "outputs": [],
   "source": [
    "#Answer In a pass by value (u pass actual value or create copy of actual value)\n",
    "# pass By refernce you pass memory location for that variable"
   ]
  },
  {
   "cell_type": "code",
   "execution_count": null,
   "id": "637b63c8",
   "metadata": {},
   "outputs": [],
   "source": []
  },
  {
   "cell_type": "markdown",
   "id": "4798a6e1",
   "metadata": {},
   "source": [
    " 8. Create a function that can intake integer or decimal value and do following operations: \n",
    "#a. Logarithmic function (log x) \n",
    "#b. Exponential function (exp(x))\n",
    "#c. Power function with base 2 (2x) d. Square root"
   ]
  },
  {
   "cell_type": "code",
   "execution_count": 18,
   "id": "22a6e40f",
   "metadata": {},
   "outputs": [],
   "source": [
    "import math as m"
   ]
  },
  {
   "cell_type": "code",
   "execution_count": 19,
   "id": "fbe17231",
   "metadata": {},
   "outputs": [],
   "source": [
    "def log_function(x):\n",
    "    return m.log(x)"
   ]
  },
  {
   "cell_type": "code",
   "execution_count": 20,
   "id": "08369932",
   "metadata": {},
   "outputs": [
    {
     "data": {
      "text/plain": [
       "0.6931471805599453"
      ]
     },
     "execution_count": 20,
     "metadata": {},
     "output_type": "execute_result"
    }
   ],
   "source": [
    "log_function(2)"
   ]
  },
  {
   "cell_type": "code",
   "execution_count": null,
   "id": "d50432aa",
   "metadata": {},
   "outputs": [],
   "source": []
  },
  {
   "cell_type": "code",
   "execution_count": 21,
   "id": "28fac343",
   "metadata": {},
   "outputs": [],
   "source": [
    "def exponential(x):\n",
    "    return m.exp(x)"
   ]
  },
  {
   "cell_type": "code",
   "execution_count": 22,
   "id": "c2a5af6c",
   "metadata": {},
   "outputs": [
    {
     "data": {
      "text/plain": [
       "7.38905609893065"
      ]
     },
     "execution_count": 22,
     "metadata": {},
     "output_type": "execute_result"
    }
   ],
   "source": [
    "exponential(2)"
   ]
  },
  {
   "cell_type": "code",
   "execution_count": null,
   "id": "990aebbc",
   "metadata": {},
   "outputs": [],
   "source": []
  },
  {
   "cell_type": "code",
   "execution_count": 23,
   "id": "766bf4af",
   "metadata": {},
   "outputs": [],
   "source": [
    "def power(x):\n",
    "    return 2**x"
   ]
  },
  {
   "cell_type": "code",
   "execution_count": 26,
   "id": "697067eb",
   "metadata": {},
   "outputs": [
    {
     "data": {
      "text/plain": [
       "16"
      ]
     },
     "execution_count": 26,
     "metadata": {},
     "output_type": "execute_result"
    }
   ],
   "source": [
    "power(4)"
   ]
  },
  {
   "cell_type": "code",
   "execution_count": 31,
   "id": "e98d4542",
   "metadata": {},
   "outputs": [],
   "source": [
    "import numpy as np"
   ]
  },
  {
   "cell_type": "code",
   "execution_count": 34,
   "id": "549e4f48",
   "metadata": {},
   "outputs": [],
   "source": [
    "def sqrt(x):\n",
    "    return (np.sqrt(x))"
   ]
  },
  {
   "cell_type": "code",
   "execution_count": 35,
   "id": "2f101516",
   "metadata": {},
   "outputs": [
    {
     "data": {
      "text/plain": [
       "2.449489742783178"
      ]
     },
     "execution_count": 35,
     "metadata": {},
     "output_type": "execute_result"
    }
   ],
   "source": [
    "sqrt(6)"
   ]
  },
  {
   "cell_type": "code",
   "execution_count": null,
   "id": "d4b7937e",
   "metadata": {},
   "outputs": [],
   "source": []
  },
  {
   "cell_type": "markdown",
   "id": "82bf4cce",
   "metadata": {},
   "source": [
    "9. Create a function that takes a full name as an argument and returns first name and last name."
   ]
  },
  {
   "cell_type": "code",
   "execution_count": 55,
   "id": "bb067330",
   "metadata": {},
   "outputs": [],
   "source": [
    "def name_breaker(full_name):\n",
    "    first_name=full_name.split()[0]\n",
    "    last_name=full_name.split()[-1]\n",
    "    first_name=\"first name is {}\".format(first_name)\n",
    "    last_name=\"last name is {}\".format(last_name)\n",
    "    return first_name , last_name  \n",
    "    \n",
    "    "
   ]
  },
  {
   "cell_type": "code",
   "execution_count": 56,
   "id": "ade7754f",
   "metadata": {},
   "outputs": [
    {
     "data": {
      "text/plain": [
       "('first name is aryan', 'last name is pandey')"
      ]
     },
     "execution_count": 56,
     "metadata": {},
     "output_type": "execute_result"
    }
   ],
   "source": [
    "name_breaker(\"aryan pandey\")"
   ]
  }
 ],
 "metadata": {
  "kernelspec": {
   "display_name": "Python 3 (ipykernel)",
   "language": "python",
   "name": "python3"
  },
  "language_info": {
   "codemirror_mode": {
    "name": "ipython",
    "version": 3
   },
   "file_extension": ".py",
   "mimetype": "text/x-python",
   "name": "python",
   "nbconvert_exporter": "python",
   "pygments_lexer": "ipython3",
   "version": "3.10.5"
  }
 },
 "nbformat": 4,
 "nbformat_minor": 5
}
